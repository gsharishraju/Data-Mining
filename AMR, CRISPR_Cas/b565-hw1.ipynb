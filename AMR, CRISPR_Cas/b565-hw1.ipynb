{
 "cells": [
  {
   "cell_type": "code",
   "execution_count": 1,
   "id": "1f72969e",
   "metadata": {
    "_cell_guid": "b1076dfc-b9ad-4769-8c92-a6c4dae69d19",
    "_uuid": "8f2839f25d086af736a60e9eeb907d3b93b6e0e5",
    "execution": {
     "iopub.execute_input": "2022-01-29T00:44:02.564475Z",
     "iopub.status.busy": "2022-01-29T00:44:02.563206Z",
     "iopub.status.idle": "2022-01-29T00:44:03.684502Z",
     "shell.execute_reply": "2022-01-29T00:44:03.685079Z",
     "shell.execute_reply.started": "2022-01-29T00:42:05.842191Z"
    },
    "papermill": {
     "duration": 1.135812,
     "end_time": "2022-01-29T00:44:03.685529",
     "exception": false,
     "start_time": "2022-01-29T00:44:02.549717",
     "status": "completed"
    },
    "tags": []
   },
   "outputs": [
    {
     "name": "stdout",
     "output_type": "stream",
     "text": [
      "/kaggle/input/b565hw1/Efaecium_AMRC.csv\n",
      "                               genome_ID  CRISPR_Cas  AMR\n",
      "0           GCA_010120755.1_ASM1012075v1           0    8\n",
      "1            GCA_001720945.1_ASM172094v1           0   21\n",
      "2            GCA_009697285.1_ASM969728v1           0   13\n",
      "3  GCA_900639535.1_E8202_hybrid_assembly           0   11\n",
      "4            GCA_002007625.1_ASM200762v1           0   18\n",
      "(2223, 3)\n"
     ]
    }
   ],
   "source": [
    "# This Python 3 environment comes with many helpful analytics libraries installed\n",
    "# It is defined by the kaggle/python Docker image: https://github.com/kaggle/docker-python\n",
    "# For example, here's several helpful packages to load\n",
    "\n",
    "import numpy as np # linear algebra\n",
    "import pandas as pd # data processing, CSV file I/O (e.g. pd.read_csv)\n",
    "import matplotlib.pyplot as plt\n",
    "import seaborn as sns\n",
    "\n",
    "# Input data files are available in the read-only \"../input/\" directory\n",
    "# For example, running this (by clicking run or pressing Shift+Enter) will list all files under the input directory\n",
    "\n",
    "import os\n",
    "for dirname, _, filenames in os.walk('/kaggle/input'):\n",
    "    for filename in filenames:\n",
    "         print(os.path.join(dirname, filename))\n",
    "         a = os.path.join(dirname, filename)\n",
    "         \n",
    "        \n",
    "AMR = pd.read_csv(a)\n",
    "print(AMR.head())\n",
    "print(AMR.shape)\n",
    "\n",
    "# You can write up to 20GB to the current directory (/kaggle/working/) that gets preserved as output when you create a version using \"Save & Run All\" \n",
    "# You can also write temporary files to /kaggle/temp/, but they won't be saved outside of the current session"
   ]
  },
  {
   "cell_type": "code",
   "execution_count": 2,
   "id": "fa9415da",
   "metadata": {
    "execution": {
     "iopub.execute_input": "2022-01-29T00:44:03.707478Z",
     "iopub.status.busy": "2022-01-29T00:44:03.706376Z",
     "iopub.status.idle": "2022-01-29T00:44:03.740365Z",
     "shell.execute_reply": "2022-01-29T00:44:03.740862Z",
     "shell.execute_reply.started": "2022-01-29T00:42:06.957952Z"
    },
    "papermill": {
     "duration": 0.046081,
     "end_time": "2022-01-29T00:44:03.741044",
     "exception": false,
     "start_time": "2022-01-29T00:44:03.694963",
     "status": "completed"
    },
    "tags": []
   },
   "outputs": [
    {
     "data": {
      "text/html": [
       "<div>\n",
       "<style scoped>\n",
       "    .dataframe tbody tr th:only-of-type {\n",
       "        vertical-align: middle;\n",
       "    }\n",
       "\n",
       "    .dataframe tbody tr th {\n",
       "        vertical-align: top;\n",
       "    }\n",
       "\n",
       "    .dataframe thead th {\n",
       "        text-align: right;\n",
       "    }\n",
       "</style>\n",
       "<table border=\"1\" class=\"dataframe\">\n",
       "  <thead>\n",
       "    <tr style=\"text-align: right;\">\n",
       "      <th></th>\n",
       "      <th>CRISPR_Cas</th>\n",
       "      <th>AMR</th>\n",
       "    </tr>\n",
       "  </thead>\n",
       "  <tbody>\n",
       "    <tr>\n",
       "      <th>count</th>\n",
       "      <td>2223.000000</td>\n",
       "      <td>2223.000000</td>\n",
       "    </tr>\n",
       "    <tr>\n",
       "      <th>mean</th>\n",
       "      <td>0.024741</td>\n",
       "      <td>10.330184</td>\n",
       "    </tr>\n",
       "    <tr>\n",
       "      <th>std</th>\n",
       "      <td>0.155371</td>\n",
       "      <td>6.661470</td>\n",
       "    </tr>\n",
       "    <tr>\n",
       "      <th>min</th>\n",
       "      <td>0.000000</td>\n",
       "      <td>0.000000</td>\n",
       "    </tr>\n",
       "    <tr>\n",
       "      <th>25%</th>\n",
       "      <td>0.000000</td>\n",
       "      <td>3.000000</td>\n",
       "    </tr>\n",
       "    <tr>\n",
       "      <th>50%</th>\n",
       "      <td>0.000000</td>\n",
       "      <td>12.000000</td>\n",
       "    </tr>\n",
       "    <tr>\n",
       "      <th>75%</th>\n",
       "      <td>0.000000</td>\n",
       "      <td>16.000000</td>\n",
       "    </tr>\n",
       "    <tr>\n",
       "      <th>max</th>\n",
       "      <td>1.000000</td>\n",
       "      <td>31.000000</td>\n",
       "    </tr>\n",
       "  </tbody>\n",
       "</table>\n",
       "</div>"
      ],
      "text/plain": [
       "        CRISPR_Cas          AMR\n",
       "count  2223.000000  2223.000000\n",
       "mean      0.024741    10.330184\n",
       "std       0.155371     6.661470\n",
       "min       0.000000     0.000000\n",
       "25%       0.000000     3.000000\n",
       "50%       0.000000    12.000000\n",
       "75%       0.000000    16.000000\n",
       "max       1.000000    31.000000"
      ]
     },
     "execution_count": 2,
     "metadata": {},
     "output_type": "execute_result"
    }
   ],
   "source": [
    "AMR.describe()"
   ]
  },
  {
   "cell_type": "markdown",
   "id": "eccde8d8",
   "metadata": {
    "papermill": {
     "duration": 0.008567,
     "end_time": "2022-01-29T00:44:03.758629",
     "exception": false,
     "start_time": "2022-01-29T00:44:03.750062",
     "status": "completed"
    },
    "tags": []
   },
   "source": [
    "**Code used to find the distribution of the AMR, CRISPR_Cas variables via a histogram plot**"
   ]
  },
  {
   "cell_type": "code",
   "execution_count": 3,
   "id": "85b2ad94",
   "metadata": {
    "execution": {
     "iopub.execute_input": "2022-01-29T00:44:03.780857Z",
     "iopub.status.busy": "2022-01-29T00:44:03.779911Z",
     "iopub.status.idle": "2022-01-29T00:44:04.417215Z",
     "shell.execute_reply": "2022-01-29T00:44:04.416614Z",
     "shell.execute_reply.started": "2022-01-29T00:42:06.991611Z"
    },
    "papermill": {
     "duration": 0.649651,
     "end_time": "2022-01-29T00:44:04.417383",
     "exception": false,
     "start_time": "2022-01-29T00:44:03.767732",
     "status": "completed"
    },
    "tags": []
   },
   "outputs": [
    {
     "name": "stdout",
     "output_type": "stream",
     "text": [
      "(array([2168.,    0.,    0.,    0.,    0.,    0.,    0.,    0.,    0.,\n",
      "          0.,    0.,    0.,    0.,    0.,    0.,    0.,    0.,    0.,\n",
      "          0.,    0.,    0.,    0.,    0.,    0.,    0.,    0.,    0.,\n",
      "          0.,    0.,    0.,    0.,    0.,    0.,    0.,    0.,    0.,\n",
      "          0.,    0.,    0.,    0.,    0.,    0.,    0.,    0.,    0.,\n",
      "          0.,    0.,    0.,    0.,    0.,    0.,    0.,    0.,    0.,\n",
      "          0.,    0.,    0.,    0.,    0.,   55.]), array([0.        , 0.01666667, 0.03333333, 0.05      , 0.06666667,\n",
      "       0.08333333, 0.1       , 0.11666667, 0.13333333, 0.15      ,\n",
      "       0.16666667, 0.18333333, 0.2       , 0.21666667, 0.23333333,\n",
      "       0.25      , 0.26666667, 0.28333333, 0.3       , 0.31666667,\n",
      "       0.33333333, 0.35      , 0.36666667, 0.38333333, 0.4       ,\n",
      "       0.41666667, 0.43333333, 0.45      , 0.46666667, 0.48333333,\n",
      "       0.5       , 0.51666667, 0.53333333, 0.55      , 0.56666667,\n",
      "       0.58333333, 0.6       , 0.61666667, 0.63333333, 0.65      ,\n",
      "       0.66666667, 0.68333333, 0.7       , 0.71666667, 0.73333333,\n",
      "       0.75      , 0.76666667, 0.78333333, 0.8       , 0.81666667,\n",
      "       0.83333333, 0.85      , 0.86666667, 0.88333333, 0.9       ,\n",
      "       0.91666667, 0.93333333, 0.95      , 0.96666667, 0.98333333,\n",
      "       1.        ]), <BarContainer object of 60 artists>)\n"
     ]
    },
    {
     "data": {
      "image/png": "[encoded data removed]",
      "text/plain": [
       "<Figure size 1080x360 with 1 Axes>"
      ]
     },
     "metadata": {
      "needs_background": "light"
     },
     "output_type": "display_data"
    },
    {
     "name": "stdout",
     "output_type": "stream",
     "text": [
      "(array([262.,   0.,   0.,  16.,   0., 286.,   0., 111.,   0.,  87.,   0.,\n",
      "        49.,   0.,  62.,   0.,  68.,   0.,  43.,   0.,  36.,   0.,  58.,\n",
      "         0.,  48.,   0.,  76.,   0., 129.,   0., 178., 240.,   0., 162.,\n",
      "         0., 189.,   0.,  68.,   0.,  13.,   0.,  14.,   0.,  11.,   0.,\n",
      "         8.,   0.,   3.,   0.,   4.,   0.,   0.,   0.,   1.,   0.,   0.,\n",
      "         0.,   0.,   0.,   0.,   1.]), array([ 0.        ,  0.51666667,  1.03333333,  1.55      ,  2.06666667,\n",
      "        2.58333333,  3.1       ,  3.61666667,  4.13333333,  4.65      ,\n",
      "        5.16666667,  5.68333333,  6.2       ,  6.71666667,  7.23333333,\n",
      "        7.75      ,  8.26666667,  8.78333333,  9.3       ,  9.81666667,\n",
      "       10.33333333, 10.85      , 11.36666667, 11.88333333, 12.4       ,\n",
      "       12.91666667, 13.43333333, 13.95      , 14.46666667, 14.98333333,\n",
      "       15.5       , 16.01666667, 16.53333333, 17.05      , 17.56666667,\n",
      "       18.08333333, 18.6       , 19.11666667, 19.63333333, 20.15      ,\n",
      "       20.66666667, 21.18333333, 21.7       , 22.21666667, 22.73333333,\n",
      "       23.25      , 23.76666667, 24.28333333, 24.8       , 25.31666667,\n",
      "       25.83333333, 26.35      , 26.86666667, 27.38333333, 27.9       ,\n",
      "       28.41666667, 28.93333333, 29.45      , 29.96666667, 30.48333333,\n",
      "       31.        ]), <BarContainer object of 60 artists>)\n"
     ]
    },
    {
     "data": {
      "image/png": "[encoded data removed]",
      "text/plain": [
       "<Figure size 1080x360 with 1 Axes>"
      ]
     },
     "metadata": {
      "needs_background": "light"
     },
     "output_type": "display_data"
    }
   ],
   "source": [
    "df1 = AMR[['AMR','CRISPR_Cas']] #Finding distribution of two variables (AMR,CRISPR_Cas) via histogram\n",
    "col = len(AMR.columns)\n",
    "#print(col)\n",
    "plt.rcParams[\"figure.figsize\"] = [15,5]\n",
    "for i in range(1,col):\n",
    "    colname = AMR.columns[i]\n",
    "    x = AMR[colname]\n",
    "    plt.xlabel(colname)\n",
    "    plt.ylabel('Genome count')\n",
    "    k = plt.hist(x,bins=60)\n",
    "    print(k)\n",
    "    plt.show()\n",
    "    "
   ]
  },
  {
   "cell_type": "markdown",
   "id": "dc1f16d2",
   "metadata": {
    "papermill": {
     "duration": 0.010954,
     "end_time": "2022-01-29T00:44:04.439395",
     "exception": false,
     "start_time": "2022-01-29T00:44:04.428441",
     "status": "completed"
    },
    "tags": []
   },
   "source": [
    "**Code used to find the correlation between the two variables**"
   ]
  },
  {
   "cell_type": "code",
   "execution_count": 4,
   "id": "6ab4dea4",
   "metadata": {
    "execution": {
     "iopub.execute_input": "2022-01-29T00:44:04.465476Z",
     "iopub.status.busy": "2022-01-29T00:44:04.464865Z",
     "iopub.status.idle": "2022-01-29T00:44:04.476412Z",
     "shell.execute_reply": "2022-01-29T00:44:04.476987Z",
     "shell.execute_reply.started": "2022-01-29T00:42:07.637024Z"
    },
    "papermill": {
     "duration": 0.02657,
     "end_time": "2022-01-29T00:44:04.477149",
     "exception": false,
     "start_time": "2022-01-29T00:44:04.450579",
     "status": "completed"
    },
    "tags": []
   },
   "outputs": [
    {
     "data": {
      "text/html": [
       "<div>\n",
       "<style scoped>\n",
       "    .dataframe tbody tr th:only-of-type {\n",
       "        vertical-align: middle;\n",
       "    }\n",
       "\n",
       "    .dataframe tbody tr th {\n",
       "        vertical-align: top;\n",
       "    }\n",
       "\n",
       "    .dataframe thead th {\n",
       "        text-align: right;\n",
       "    }\n",
       "</style>\n",
       "<table border=\"1\" class=\"dataframe\">\n",
       "  <thead>\n",
       "    <tr style=\"text-align: right;\">\n",
       "      <th></th>\n",
       "      <th>CRISPR_Cas</th>\n",
       "      <th>AMR</th>\n",
       "    </tr>\n",
       "  </thead>\n",
       "  <tbody>\n",
       "    <tr>\n",
       "      <th>CRISPR_Cas</th>\n",
       "      <td>1.000000</td>\n",
       "      <td>-0.156173</td>\n",
       "    </tr>\n",
       "    <tr>\n",
       "      <th>AMR</th>\n",
       "      <td>-0.156173</td>\n",
       "      <td>1.000000</td>\n",
       "    </tr>\n",
       "  </tbody>\n",
       "</table>\n",
       "</div>"
      ],
      "text/plain": [
       "            CRISPR_Cas       AMR\n",
       "CRISPR_Cas    1.000000 -0.156173\n",
       "AMR          -0.156173  1.000000"
      ]
     },
     "execution_count": 4,
     "metadata": {},
     "output_type": "execute_result"
    }
   ],
   "source": [
    "corr = AMR.corr(method='pearson') #Method used to find the correlation between two variables\n",
    "corr"
   ]
  },
  {
   "cell_type": "markdown",
   "id": "79157c12",
   "metadata": {
    "papermill": {
     "duration": 0.011368,
     "end_time": "2022-01-29T00:44:04.499742",
     "exception": false,
     "start_time": "2022-01-29T00:44:04.488374",
     "status": "completed"
    },
    "tags": []
   },
   "source": [
    "**Code used to display correlation matrix**"
   ]
  },
  {
   "cell_type": "code",
   "execution_count": 5,
   "id": "150f1df6",
   "metadata": {
    "execution": {
     "iopub.execute_input": "2022-01-29T00:44:04.526707Z",
     "iopub.status.busy": "2022-01-29T00:44:04.526029Z",
     "iopub.status.idle": "2022-01-29T00:44:04.786720Z",
     "shell.execute_reply": "2022-01-29T00:44:04.786031Z",
     "shell.execute_reply.started": "2022-01-29T00:42:07.651600Z"
    },
    "papermill": {
     "duration": 0.275282,
     "end_time": "2022-01-29T00:44:04.786859",
     "exception": false,
     "start_time": "2022-01-29T00:44:04.511577",
     "status": "completed"
    },
    "tags": []
   },
   "outputs": [
    {
     "data": {
      "image/png": "[encoded data removed]",
      "text/plain": [
       "<Figure size 576x432 with 2 Axes>"
      ]
     },
     "metadata": {},
     "output_type": "display_data"
    }
   ],
   "source": [
    "sns.set(rc = {'figure.figsize':(8,6)}) #Code used to find the correlation matrix\n",
    "heatmap = sns.heatmap(AMR.corr(), annot = True)"
   ]
  },
  {
   "cell_type": "markdown",
   "id": "4aafb7d7",
   "metadata": {
    "papermill": {
     "duration": 0.011896,
     "end_time": "2022-01-29T00:44:04.811155",
     "exception": false,
     "start_time": "2022-01-29T00:44:04.799259",
     "status": "completed"
    },
    "tags": []
   },
   "source": [
    "**Code that shows a boxplot for the two variables**"
   ]
  },
  {
   "cell_type": "code",
   "execution_count": 6,
   "id": "1451b6d7",
   "metadata": {
    "execution": {
     "iopub.execute_input": "2022-01-29T00:44:04.864037Z",
     "iopub.status.busy": "2022-01-29T00:44:04.855883Z",
     "iopub.status.idle": "2022-01-29T00:44:05.189420Z",
     "shell.execute_reply": "2022-01-29T00:44:05.188792Z",
     "shell.execute_reply.started": "2022-01-29T00:42:07.921053Z"
    },
    "papermill": {
     "duration": 0.366137,
     "end_time": "2022-01-29T00:44:05.189561",
     "exception": false,
     "start_time": "2022-01-29T00:44:04.823424",
     "status": "completed"
    },
    "tags": []
   },
   "outputs": [
    {
     "data": {
      "image/png": "[encoded data removed]",
      "text/plain": [
       "<Figure size 576x432 with 1 Axes>"
      ]
     },
     "metadata": {},
     "output_type": "display_data"
    },
    {
     "data": {
      "image/png": "[encoded data removed]",
      "text/plain": [
       "<Figure size 576x432 with 1 Axes>"
      ]
     },
     "metadata": {},
     "output_type": "display_data"
    }
   ],
   "source": [
    "for i in range(1,col):\n",
    "    colname = AMR.columns[i]\n",
    "    x = AMR[colname]\n",
    "    plt.xlabel(colname)\n",
    "    #plt.ylabel('Genome count')\n",
    "    k = plt.boxplot(x)\n",
    "    plt.show()"
   ]
  }
 ],
 "metadata": {
  "kernelspec": {
   "display_name": "Python 3",
   "language": "python",
   "name": "python3"
  },
  "language_info": {
   "codemirror_mode": {
    "name": "ipython",
    "version": 3
   },
   "file_extension": ".py",
   "mimetype": "text/x-python",
   "name": "python",
   "nbconvert_exporter": "python",
   "pygments_lexer": "ipython3",
   "version": "3.7.12"
  },
  "papermill": {
   "default_parameters": {},
   "duration": 13.481374,
   "end_time": "2022-01-29T00:44:05.915402",
   "environment_variables": {},
   "exception": null,
   "input_path": "__notebook__.ipynb",
   "output_path": "__notebook__.ipynb",
   "parameters": {},
   "start_time": "2022-01-29T00:43:52.434028",
   "version": "2.3.3"
  }
 },
 "nbformat": 4,
 "nbformat_minor": 5
}
